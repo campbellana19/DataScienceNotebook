{
  "metadata": {
    "language_info": {
      "codemirror_mode": {
        "name": "python",
        "version": 3
      },
      "file_extension": ".py",
      "mimetype": "text/x-python",
      "name": "python",
      "nbconvert_exporter": "python",
      "pygments_lexer": "ipython3",
      "version": "3.8"
    },
    "kernelspec": {
      "name": "python",
      "display_name": "Python (Pyodide)",
      "language": "python"
    }
  },
  "nbformat_minor": 4,
  "nbformat": 4,
  "cells": [
    {
      "cell_type": "code",
      "source": "# My Data Science Notebook",
      "metadata": {
        "trusted": true
      },
      "execution_count": 1,
      "outputs": []
    },
    {
      "cell_type": "markdown",
      "source": "Welcome to my Data Science Notebook! In this notebook, we will explore various data science topics and perform some coding exercises.\n",
      "metadata": {}
    },
    {
      "cell_type": "markdown",
      "source": "Data Science Languages:\n1. Python\n2. R\n3. Julia\n4. SQL",
      "metadata": {}
    },
    {
      "cell_type": "markdown",
      "source": "Data Science Libraries:\n- Pandas\n- NumPy\n- Matplotlib\n- Scikit-learn\n- TensorFlow\n- PyTorch",
      "metadata": {}
    },
    {
      "cell_type": "markdown",
      "source": "| Tool        | Description                      |\n|-------------|----------------------------------|\n| Pandas      | Data manipulation library        |\n| NumPy       | Numerical computing library      |\n| Matplotlib  | Data visualization library       |\n| Scikit-learn| Machine learning library         |\n| TensorFlow  | Deep learning framework          |\n| PyTorch     | Neural networks library          |",
      "metadata": {}
    },
    {
      "cell_type": "markdown",
      "source": "Arithmetic Expression Examples:\nArithmetic expressions are mathematical calculations involving operators like addition, subtraction, multiplication, and division. For example:",
      "metadata": {}
    },
    {
      "cell_type": "code",
      "source": "# Multiplication example\nnum1 = 10\nnum2 = 5\nresult_mult = num1 * num2\nprint(\"Multiplication Result:\", result_mult)\n\n# Addition example\nnum3 = 7\nnum4 = 3\nresult_add = num3 + num4\nprint(\"Addition Result:\", result_add)",
      "metadata": {
        "trusted": true
      },
      "execution_count": 7,
      "outputs": [
        {
          "name": "stdout",
          "text": "Multiplication Result: 50\nAddition Result: 10\n",
          "output_type": "stream"
        }
      ]
    },
    {
      "cell_type": "code",
      "source": "def convert_minutes_to_hours(minutes):\n    hours = minutes / 60\n    return hours\n\nminutes = 120\nhours_result = convert_minutes_to_hours(minutes)\nprint(f\"{minutes} minutes is equal to {hours_result} hours.\")",
      "metadata": {
        "trusted": true
      },
      "execution_count": 8,
      "outputs": [
        {
          "name": "stdout",
          "text": "120 minutes is equal to 2.0 hours.\n",
          "output_type": "stream"
        }
      ]
    },
    {
      "cell_type": "markdown",
      "source": "Objectives:\n1. Explore data science languages and libraries.\n2. Understand basic arithmetic expressions.\n3. Perform numerical operations using Python.\n4. Convert minutes to hours using a custom function.\n",
      "metadata": {}
    },
    {
      "cell_type": "markdown",
      "source": "Author: Ana Campbell\n",
      "metadata": {}
    }
  ]
}